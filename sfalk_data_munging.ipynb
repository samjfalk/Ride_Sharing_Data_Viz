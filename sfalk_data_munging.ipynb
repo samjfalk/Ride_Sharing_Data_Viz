{
 "cells": [
  {
   "cell_type": "code",
   "execution_count": 112,
   "metadata": {},
   "outputs": [],
   "source": [
    "import pandas as pd\n",
    "import matplotlib\n",
    "import matplotlib.pyplot as plt\n",
    "import geopandas as gpd\n",
    "import numpy as np\n",
    "from haversine import haversine, Unit\n",
    "import numpy as np"
   ]
  },
  {
   "cell_type": "code",
   "execution_count": 79,
   "metadata": {},
   "outputs": [],
   "source": [
    "pd.set_option(\"display.max_rows\", 1000)"
   ]
  },
  {
   "cell_type": "code",
   "execution_count": null,
   "metadata": {},
   "outputs": [],
   "source": [
    "# read in data and examine "
   ]
  },
  {
   "cell_type": "code",
   "execution_count": 2,
   "metadata": {},
   "outputs": [],
   "source": [
    "requests = pd.read_csv('requests.csv', parse_dates=True)"
   ]
  },
  {
   "cell_type": "code",
   "execution_count": 3,
   "metadata": {},
   "outputs": [],
   "source": [
    "paths = pd.read_csv('vehicle_paths.csv', parse_dates=True)"
   ]
  },
  {
   "cell_type": "code",
   "execution_count": 4,
   "metadata": {},
   "outputs": [],
   "source": [
    "events = pd.read_csv('vehicle_events.csv')"
   ]
  },
  {
   "cell_type": "code",
   "execution_count": 5,
   "metadata": {},
   "outputs": [
    {
     "data": {
      "text/html": [
       "<div>\n",
       "<style scoped>\n",
       "    .dataframe tbody tr th:only-of-type {\n",
       "        vertical-align: middle;\n",
       "    }\n",
       "\n",
       "    .dataframe tbody tr th {\n",
       "        vertical-align: top;\n",
       "    }\n",
       "\n",
       "    .dataframe thead th {\n",
       "        text-align: right;\n",
       "    }\n",
       "</style>\n",
       "<table border=\"1\" class=\"dataframe\">\n",
       "  <thead>\n",
       "    <tr style=\"text-align: right;\">\n",
       "      <th></th>\n",
       "      <th>Timestamp</th>\n",
       "      <th>Requested_Pickup</th>\n",
       "      <th>Requested_Dropoff</th>\n",
       "      <th>Actual_Pickup</th>\n",
       "      <th>Actual_Dropoff</th>\n",
       "    </tr>\n",
       "  </thead>\n",
       "  <tbody>\n",
       "    <tr>\n",
       "      <th>0</th>\n",
       "      <td>1380949200</td>\n",
       "      <td>1149</td>\n",
       "      <td>725</td>\n",
       "      <td>218</td>\n",
       "      <td>3601</td>\n",
       "    </tr>\n",
       "    <tr>\n",
       "      <th>1</th>\n",
       "      <td>1380949200</td>\n",
       "      <td>1225</td>\n",
       "      <td>1714</td>\n",
       "      <td>2003</td>\n",
       "      <td>3601</td>\n",
       "    </tr>\n",
       "    <tr>\n",
       "      <th>2</th>\n",
       "      <td>1380949200</td>\n",
       "      <td>1237</td>\n",
       "      <td>3143</td>\n",
       "      <td>1314</td>\n",
       "      <td>2218</td>\n",
       "    </tr>\n",
       "    <tr>\n",
       "      <th>3</th>\n",
       "      <td>1380949200</td>\n",
       "      <td>1323</td>\n",
       "      <td>3566</td>\n",
       "      <td>1330</td>\n",
       "      <td>2573</td>\n",
       "    </tr>\n",
       "    <tr>\n",
       "      <th>4</th>\n",
       "      <td>1380949200</td>\n",
       "      <td>1328</td>\n",
       "      <td>2466</td>\n",
       "      <td>1323</td>\n",
       "      <td>2473</td>\n",
       "    </tr>\n",
       "  </tbody>\n",
       "</table>\n",
       "</div>"
      ],
      "text/plain": [
       "    Timestamp  Requested_Pickup  Requested_Dropoff  Actual_Pickup  \\\n",
       "0  1380949200              1149                725            218   \n",
       "1  1380949200              1225               1714           2003   \n",
       "2  1380949200              1237               3143           1314   \n",
       "3  1380949200              1323               3566           1330   \n",
       "4  1380949200              1328               2466           1323   \n",
       "\n",
       "   Actual_Dropoff  \n",
       "0            3601  \n",
       "1            3601  \n",
       "2            2218  \n",
       "3            2573  \n",
       "4            2473  "
      ]
     },
     "execution_count": 5,
     "metadata": {},
     "output_type": "execute_result"
    }
   ],
   "source": [
    "requests.head()"
   ]
  },
  {
   "cell_type": "code",
   "execution_count": 6,
   "metadata": {},
   "outputs": [
    {
     "data": {
      "text/html": [
       "<div>\n",
       "<style scoped>\n",
       "    .dataframe tbody tr th:only-of-type {\n",
       "        vertical-align: middle;\n",
       "    }\n",
       "\n",
       "    .dataframe tbody tr th {\n",
       "        vertical-align: top;\n",
       "    }\n",
       "\n",
       "    .dataframe thead th {\n",
       "        text-align: right;\n",
       "    }\n",
       "</style>\n",
       "<table border=\"1\" class=\"dataframe\">\n",
       "  <thead>\n",
       "    <tr style=\"text-align: right;\">\n",
       "      <th></th>\n",
       "      <th>Timestamp</th>\n",
       "      <th>Vehicle_ID</th>\n",
       "      <th>Stop_Intersection</th>\n",
       "      <th>Stop_Passengers</th>\n",
       "      <th>Requested_Stop_Intersection</th>\n",
       "    </tr>\n",
       "  </thead>\n",
       "  <tbody>\n",
       "    <tr>\n",
       "      <th>0</th>\n",
       "      <td>1380949200</td>\n",
       "      <td>83</td>\n",
       "      <td>2767</td>\n",
       "      <td>0</td>\n",
       "      <td>2764</td>\n",
       "    </tr>\n",
       "    <tr>\n",
       "      <th>1</th>\n",
       "      <td>1380949200</td>\n",
       "      <td>89</td>\n",
       "      <td>3070</td>\n",
       "      <td>0</td>\n",
       "      <td>1818</td>\n",
       "    </tr>\n",
       "    <tr>\n",
       "      <th>2</th>\n",
       "      <td>1380949200</td>\n",
       "      <td>112</td>\n",
       "      <td>97</td>\n",
       "      <td>0</td>\n",
       "      <td>972</td>\n",
       "    </tr>\n",
       "    <tr>\n",
       "      <th>3</th>\n",
       "      <td>1380949200</td>\n",
       "      <td>121</td>\n",
       "      <td>215</td>\n",
       "      <td>0</td>\n",
       "      <td>396</td>\n",
       "    </tr>\n",
       "    <tr>\n",
       "      <th>4</th>\n",
       "      <td>1380949200</td>\n",
       "      <td>141</td>\n",
       "      <td>1314</td>\n",
       "      <td>0</td>\n",
       "      <td>1237</td>\n",
       "    </tr>\n",
       "  </tbody>\n",
       "</table>\n",
       "</div>"
      ],
      "text/plain": [
       "    Timestamp  Vehicle_ID  Stop_Intersection  Stop_Passengers  \\\n",
       "0  1380949200          83               2767                0   \n",
       "1  1380949200          89               3070                0   \n",
       "2  1380949200         112                 97                0   \n",
       "3  1380949200         121                215                0   \n",
       "4  1380949200         141               1314                0   \n",
       "\n",
       "   Requested_Stop_Intersection  \n",
       "0                         2764  \n",
       "1                         1818  \n",
       "2                          972  \n",
       "3                          396  \n",
       "4                         1237  "
      ]
     },
     "execution_count": 6,
     "metadata": {},
     "output_type": "execute_result"
    }
   ],
   "source": [
    "events.head()"
   ]
  },
  {
   "cell_type": "code",
   "execution_count": 7,
   "metadata": {},
   "outputs": [
    {
     "data": {
      "text/plain": [
       "array([ 0,  1, -1])"
      ]
     },
     "execution_count": 7,
     "metadata": {},
     "output_type": "execute_result"
    }
   ],
   "source": [
    "events['Stop_Passengers'].unique()"
   ]
  },
  {
   "cell_type": "code",
   "execution_count": 8,
   "metadata": {},
   "outputs": [
    {
     "data": {
      "text/html": [
       "<div>\n",
       "<style scoped>\n",
       "    .dataframe tbody tr th:only-of-type {\n",
       "        vertical-align: middle;\n",
       "    }\n",
       "\n",
       "    .dataframe tbody tr th {\n",
       "        vertical-align: top;\n",
       "    }\n",
       "\n",
       "    .dataframe thead th {\n",
       "        text-align: right;\n",
       "    }\n",
       "</style>\n",
       "<table border=\"1\" class=\"dataframe\">\n",
       "  <thead>\n",
       "    <tr style=\"text-align: right;\">\n",
       "      <th></th>\n",
       "      <th>Timestamp</th>\n",
       "      <th>Vehicle_ID</th>\n",
       "      <th>Latitude</th>\n",
       "      <th>Longitude</th>\n",
       "      <th>Num_Passengers</th>\n",
       "    </tr>\n",
       "  </thead>\n",
       "  <tbody>\n",
       "    <tr>\n",
       "      <th>0</th>\n",
       "      <td>1380949200</td>\n",
       "      <td>83</td>\n",
       "      <td>40.73062</td>\n",
       "      <td>-73.99065</td>\n",
       "      <td>0</td>\n",
       "    </tr>\n",
       "    <tr>\n",
       "      <th>1</th>\n",
       "      <td>1380949200</td>\n",
       "      <td>89</td>\n",
       "      <td>40.71429</td>\n",
       "      <td>-74.01153</td>\n",
       "      <td>0</td>\n",
       "    </tr>\n",
       "    <tr>\n",
       "      <th>2</th>\n",
       "      <td>1380949200</td>\n",
       "      <td>112</td>\n",
       "      <td>40.77178</td>\n",
       "      <td>-73.97919</td>\n",
       "      <td>0</td>\n",
       "    </tr>\n",
       "    <tr>\n",
       "      <th>3</th>\n",
       "      <td>1380949200</td>\n",
       "      <td>121</td>\n",
       "      <td>40.73974</td>\n",
       "      <td>-74.00249</td>\n",
       "      <td>0</td>\n",
       "    </tr>\n",
       "    <tr>\n",
       "      <th>4</th>\n",
       "      <td>1380949200</td>\n",
       "      <td>141</td>\n",
       "      <td>40.77114</td>\n",
       "      <td>-73.96392</td>\n",
       "      <td>0</td>\n",
       "    </tr>\n",
       "  </tbody>\n",
       "</table>\n",
       "</div>"
      ],
      "text/plain": [
       "    Timestamp  Vehicle_ID  Latitude  Longitude  Num_Passengers\n",
       "0  1380949200          83  40.73062  -73.99065               0\n",
       "1  1380949200          89  40.71429  -74.01153               0\n",
       "2  1380949200         112  40.77178  -73.97919               0\n",
       "3  1380949200         121  40.73974  -74.00249               0\n",
       "4  1380949200         141  40.77114  -73.96392               0"
      ]
     },
     "execution_count": 8,
     "metadata": {},
     "output_type": "execute_result"
    }
   ],
   "source": [
    "paths.head()"
   ]
  },
  {
   "cell_type": "code",
   "execution_count": 9,
   "metadata": {},
   "outputs": [
    {
     "data": {
      "text/plain": [
       "array([0, 1, 2, 3, 4])"
      ]
     },
     "execution_count": 9,
     "metadata": {},
     "output_type": "execute_result"
    }
   ],
   "source": [
    "paths['Num_Passengers'].unique()"
   ]
  },
  {
   "cell_type": "code",
   "execution_count": 10,
   "metadata": {},
   "outputs": [],
   "source": [
    "# create one df that can answer questions 7 and 8\n",
    "merged_df = pd.merge(paths, events, how='outer', on=['Timestamp', 'Vehicle_ID'])"
   ]
  },
  {
   "cell_type": "code",
   "execution_count": 11,
   "metadata": {},
   "outputs": [
    {
     "data": {
      "text/plain": [
       "(2898718, 8)"
      ]
     },
     "execution_count": 11,
     "metadata": {},
     "output_type": "execute_result"
    }
   ],
   "source": [
    "merged_df.shape"
   ]
  },
  {
   "cell_type": "code",
   "execution_count": 16,
   "metadata": {},
   "outputs": [
    {
     "data": {
      "text/plain": [
       "1    2637434\n",
       "2       2937\n",
       "3         41\n",
       "dtype: int64"
      ]
     },
     "execution_count": 16,
     "metadata": {},
     "output_type": "execute_result"
    }
   ],
   "source": [
    "# checking how unique the \"primary keys are\"\n",
    "(paths['Timestamp'].astype(str) + '_' + paths['Vehicle_ID'].astype(str)).value_counts().value_counts()"
   ]
  },
  {
   "cell_type": "code",
   "execution_count": 17,
   "metadata": {},
   "outputs": [
    {
     "data": {
      "text/plain": [
       "(2643431, 5)"
      ]
     },
     "execution_count": 17,
     "metadata": {},
     "output_type": "execute_result"
    }
   ],
   "source": [
    "paths.shape"
   ]
  },
  {
   "cell_type": "code",
   "execution_count": null,
   "metadata": {},
   "outputs": [],
   "source": [
    "# update timestamp to be readable"
   ]
  },
  {
   "cell_type": "code",
   "execution_count": 18,
   "metadata": {},
   "outputs": [],
   "source": [
    "merged_df['Timestamp'] = pd.to_datetime(merged_df['Timestamp'], unit='s')"
   ]
  },
  {
   "cell_type": "code",
   "execution_count": 19,
   "metadata": {},
   "outputs": [
    {
     "data": {
      "text/html": [
       "<div>\n",
       "<style scoped>\n",
       "    .dataframe tbody tr th:only-of-type {\n",
       "        vertical-align: middle;\n",
       "    }\n",
       "\n",
       "    .dataframe tbody tr th {\n",
       "        vertical-align: top;\n",
       "    }\n",
       "\n",
       "    .dataframe thead th {\n",
       "        text-align: right;\n",
       "    }\n",
       "</style>\n",
       "<table border=\"1\" class=\"dataframe\">\n",
       "  <thead>\n",
       "    <tr style=\"text-align: right;\">\n",
       "      <th></th>\n",
       "      <th>Timestamp</th>\n",
       "      <th>Vehicle_ID</th>\n",
       "      <th>Latitude</th>\n",
       "      <th>Longitude</th>\n",
       "      <th>Num_Passengers</th>\n",
       "      <th>Stop_Intersection</th>\n",
       "      <th>Stop_Passengers</th>\n",
       "      <th>Requested_Stop_Intersection</th>\n",
       "    </tr>\n",
       "  </thead>\n",
       "  <tbody>\n",
       "  </tbody>\n",
       "</table>\n",
       "</div>"
      ],
      "text/plain": [
       "Empty DataFrame\n",
       "Columns: [Timestamp, Vehicle_ID, Latitude, Longitude, Num_Passengers, Stop_Intersection, Stop_Passengers, Requested_Stop_Intersection]\n",
       "Index: []"
      ]
     },
     "execution_count": 19,
     "metadata": {},
     "output_type": "execute_result"
    }
   ],
   "source": [
    "# check that vehicle id is never null\n",
    "merged_df[merged_df['Vehicle_ID'].isna()]"
   ]
  },
  {
   "cell_type": "code",
   "execution_count": 20,
   "metadata": {},
   "outputs": [
    {
     "data": {
      "text/html": [
       "<div>\n",
       "<style scoped>\n",
       "    .dataframe tbody tr th:only-of-type {\n",
       "        vertical-align: middle;\n",
       "    }\n",
       "\n",
       "    .dataframe tbody tr th {\n",
       "        vertical-align: top;\n",
       "    }\n",
       "\n",
       "    .dataframe thead th {\n",
       "        text-align: right;\n",
       "    }\n",
       "</style>\n",
       "<table border=\"1\" class=\"dataframe\">\n",
       "  <thead>\n",
       "    <tr style=\"text-align: right;\">\n",
       "      <th></th>\n",
       "      <th>Timestamp</th>\n",
       "      <th>Vehicle_ID</th>\n",
       "      <th>Latitude</th>\n",
       "      <th>Longitude</th>\n",
       "      <th>Num_Passengers</th>\n",
       "      <th>Stop_Intersection</th>\n",
       "      <th>Stop_Passengers</th>\n",
       "      <th>Requested_Stop_Intersection</th>\n",
       "    </tr>\n",
       "  </thead>\n",
       "  <tbody>\n",
       "    <tr>\n",
       "      <th>0</th>\n",
       "      <td>2013-10-05 05:00:00</td>\n",
       "      <td>83</td>\n",
       "      <td>40.73062</td>\n",
       "      <td>-73.99065</td>\n",
       "      <td>0.0</td>\n",
       "      <td>2767.0</td>\n",
       "      <td>0.0</td>\n",
       "      <td>2764.0</td>\n",
       "    </tr>\n",
       "    <tr>\n",
       "      <th>1</th>\n",
       "      <td>2013-10-05 05:00:00</td>\n",
       "      <td>89</td>\n",
       "      <td>40.71429</td>\n",
       "      <td>-74.01153</td>\n",
       "      <td>0.0</td>\n",
       "      <td>3070.0</td>\n",
       "      <td>0.0</td>\n",
       "      <td>1818.0</td>\n",
       "    </tr>\n",
       "    <tr>\n",
       "      <th>2</th>\n",
       "      <td>2013-10-05 05:00:00</td>\n",
       "      <td>112</td>\n",
       "      <td>40.77178</td>\n",
       "      <td>-73.97919</td>\n",
       "      <td>0.0</td>\n",
       "      <td>97.0</td>\n",
       "      <td>0.0</td>\n",
       "      <td>972.0</td>\n",
       "    </tr>\n",
       "    <tr>\n",
       "      <th>3</th>\n",
       "      <td>2013-10-05 05:00:00</td>\n",
       "      <td>121</td>\n",
       "      <td>40.73974</td>\n",
       "      <td>-74.00249</td>\n",
       "      <td>0.0</td>\n",
       "      <td>215.0</td>\n",
       "      <td>0.0</td>\n",
       "      <td>396.0</td>\n",
       "    </tr>\n",
       "    <tr>\n",
       "      <th>4</th>\n",
       "      <td>2013-10-05 05:00:00</td>\n",
       "      <td>141</td>\n",
       "      <td>40.77114</td>\n",
       "      <td>-73.96392</td>\n",
       "      <td>0.0</td>\n",
       "      <td>1314.0</td>\n",
       "      <td>0.0</td>\n",
       "      <td>1237.0</td>\n",
       "    </tr>\n",
       "  </tbody>\n",
       "</table>\n",
       "</div>"
      ],
      "text/plain": [
       "            Timestamp  Vehicle_ID  Latitude  Longitude  Num_Passengers  \\\n",
       "0 2013-10-05 05:00:00          83  40.73062  -73.99065             0.0   \n",
       "1 2013-10-05 05:00:00          89  40.71429  -74.01153             0.0   \n",
       "2 2013-10-05 05:00:00         112  40.77178  -73.97919             0.0   \n",
       "3 2013-10-05 05:00:00         121  40.73974  -74.00249             0.0   \n",
       "4 2013-10-05 05:00:00         141  40.77114  -73.96392             0.0   \n",
       "\n",
       "   Stop_Intersection  Stop_Passengers  Requested_Stop_Intersection  \n",
       "0             2767.0              0.0                       2764.0  \n",
       "1             3070.0              0.0                       1818.0  \n",
       "2               97.0              0.0                        972.0  \n",
       "3              215.0              0.0                        396.0  \n",
       "4             1314.0              0.0                       1237.0  "
      ]
     },
     "execution_count": 20,
     "metadata": {},
     "output_type": "execute_result"
    }
   ],
   "source": [
    "merged_df.head()"
   ]
  },
  {
   "cell_type": "code",
   "execution_count": null,
   "metadata": {},
   "outputs": [],
   "source": [
    "# graph some initial findings by hour"
   ]
  },
  {
   "cell_type": "code",
   "execution_count": 21,
   "metadata": {},
   "outputs": [],
   "source": [
    "merged_df['hour'] = [x.hour for x in merged_df['Timestamp']]"
   ]
  },
  {
   "cell_type": "code",
   "execution_count": 42,
   "metadata": {},
   "outputs": [],
   "source": [
    "merged_df['hour_trunc'] = [x.replace(minute=0, second=0, microsecond=0) for x in merged_df['Timestamp']]"
   ]
  },
  {
   "cell_type": "code",
   "execution_count": 43,
   "metadata": {},
   "outputs": [],
   "source": [
    "hourly_pickups = merged_df[merged_df['Stop_Passengers'] == 1].groupby('hour_trunc')['Vehicle_ID'].count()"
   ]
  },
  {
   "cell_type": "code",
   "execution_count": 44,
   "metadata": {},
   "outputs": [
    {
     "data": {
      "text/plain": [
       "<matplotlib.axes._subplots.AxesSubplot at 0x7f30c7d0b1d0>"
      ]
     },
     "execution_count": 44,
     "metadata": {},
     "output_type": "execute_result"
    },
    {
     "data": {
      "image/png": "[encoded data removed]",
      "text/plain": [
       "<Figure size 432x288 with 1 Axes>"
      ]
     },
     "metadata": {
      "needs_background": "light"
     },
     "output_type": "display_data"
    }
   ],
   "source": [
    "hourly_pickups.plot()"
   ]
  },
  {
   "cell_type": "code",
   "execution_count": 45,
   "metadata": {},
   "outputs": [],
   "source": [
    "hourly_dropoffs = merged_df[merged_df['Stop_Passengers'] == -1].groupby('hour_trunc')['Vehicle_ID'].count()"
   ]
  },
  {
   "cell_type": "code",
   "execution_count": 47,
   "metadata": {},
   "outputs": [
    {
     "data": {
      "text/plain": [
       "<matplotlib.axes._subplots.AxesSubplot at 0x7f30720df390>"
      ]
     },
     "execution_count": 47,
     "metadata": {},
     "output_type": "execute_result"
    },
    {
     "data": {
      "image/png": "[encoded data removed]",
      "text/plain": [
       "<Figure size 432x288 with 1 Axes>"
      ]
     },
     "metadata": {
      "needs_background": "light"
     },
     "output_type": "display_data"
    }
   ],
   "source": [
    "hourly_dropoffs.plot()"
   ]
  },
  {
   "cell_type": "code",
   "execution_count": 48,
   "metadata": {},
   "outputs": [],
   "source": [
    "hourly_reset = merged_df[merged_df['Stop_Passengers'] == 0].groupby('hour_trunc')['Vehicle_ID'].count()"
   ]
  },
  {
   "cell_type": "code",
   "execution_count": 49,
   "metadata": {},
   "outputs": [
    {
     "data": {
      "text/plain": [
       "<matplotlib.axes._subplots.AxesSubplot at 0x7f3071ac8198>"
      ]
     },
     "execution_count": 49,
     "metadata": {},
     "output_type": "execute_result"
    },
    {
     "data": {
      "image/png": "[encoded data removed]",
      "text/plain": [
       "<Figure size 432x288 with 1 Axes>"
      ]
     },
     "metadata": {
      "needs_background": "light"
     },
     "output_type": "display_data"
    }
   ],
   "source": [
    "hourly_reset.plot()"
   ]
  },
  {
   "cell_type": "code",
   "execution_count": null,
   "metadata": {},
   "outputs": [],
   "source": [
    "# interesting plots for count of records filtered by the different types of 'stops'\n",
    "# turns out the timestamp is over the weekend, so the expected timeline doesn't exist that would be seen during the week"
   ]
  },
  {
   "cell_type": "code",
   "execution_count": 64,
   "metadata": {},
   "outputs": [
    {
     "data": {
      "text/plain": [
       "2013-10-05 05:00:00    931\n",
       "2013-10-05 06:00:00    919\n",
       "2013-10-05 07:00:00    711\n",
       "2013-10-05 21:00:00    688\n",
       "2013-10-05 11:00:00    611\n",
       "2013-10-05 12:00:00    606\n",
       "2013-10-05 16:00:00    582\n",
       "2013-10-05 22:00:00    581\n",
       "2013-10-05 10:00:00    567\n",
       "2013-10-05 08:00:00    559\n",
       "2013-10-06 03:00:00    547\n",
       "2013-10-05 20:00:00    545\n",
       "2013-10-06 04:00:00    544\n",
       "2013-10-05 18:00:00    527\n",
       "2013-10-05 13:00:00    527\n",
       "2013-10-05 15:00:00    525\n",
       "2013-10-05 17:00:00    512\n",
       "2013-10-05 23:00:00    508\n",
       "2013-10-06 05:00:00    494\n",
       "2013-10-06 01:00:00    481\n",
       "2013-10-05 14:00:00    480\n",
       "2013-10-05 09:00:00    480\n",
       "2013-10-05 19:00:00    478\n",
       "2013-10-06 02:00:00    474\n",
       "2013-10-06 00:00:00    462\n",
       "Name: hour_trunc, dtype: int64"
      ]
     },
     "execution_count": 64,
     "metadata": {},
     "output_type": "execute_result"
    }
   ],
   "source": [
    "# looking for other biases\n",
    "merged_df[merged_df['Latitude'].isna()]['hour_trunc'].value_counts()"
   ]
  },
  {
   "cell_type": "code",
   "execution_count": 65,
   "metadata": {},
   "outputs": [],
   "source": [
    "# drop where there is no path\n",
    "merged_df = merged_df[~merged_df['Latitude'].isna()]"
   ]
  },
  {
   "cell_type": "code",
   "execution_count": 166,
   "metadata": {},
   "outputs": [],
   "source": [
    "# create a feature that can be parsed by carto easily. One that only shows passengers where \n",
    "# a stop happens to pick up or drop off a passenger\n",
    "merged_df['parsed_pass_count'] = np.where(pd.concat([merged_df['Stop_Passengers'] == 0.0, \n",
    "                                                     merged_df['Stop_Passengers'].isnull()], axis=1).any(axis=1), \n",
    "                                          np.NaN, merged_df['Num_Passengers'])"
   ]
  },
  {
   "cell_type": "code",
   "execution_count": 140,
   "metadata": {},
   "outputs": [],
   "source": [
    "# for the next part we will calculate distance traveled via lat long\n",
    "# it's necessary to sort the data within vehicle and timestamp so measuring the next logical step\n",
    "merged_df = merged_df.sort_values(by=['Vehicle_ID', 'Timestamp']).reset_index(drop=True)"
   ]
  },
  {
   "cell_type": "code",
   "execution_count": 118,
   "metadata": {},
   "outputs": [],
   "source": [
    "# create lat long tuples\n",
    "merged_df['latlon'] = merged_df[['Latitude', 'Longitude']].apply(tuple, axis=1)"
   ]
  },
  {
   "cell_type": "code",
   "execution_count": 144,
   "metadata": {},
   "outputs": [],
   "source": [
    "# off set the tuples and reset at each vehicle_id\n",
    "merged_df['latlon_previous'] = merged_df.groupby(['Vehicle_ID'])['latlon'].shift(1)"
   ]
  },
  {
   "cell_type": "code",
   "execution_count": 153,
   "metadata": {},
   "outputs": [],
   "source": [
    "# create function to pass values into haversine. Since the first value of each will be 0 the function would break...\n",
    "# adding exception important here. \n",
    "def hav_func(x):\n",
    "    try:\n",
    "        return haversine(x['latlon'], x['latlon_previous'],  unit=Unit.MILES)\n",
    "    except TypeError:\n",
    "        return 0"
   ]
  },
  {
   "cell_type": "code",
   "execution_count": 155,
   "metadata": {},
   "outputs": [],
   "source": [
    "# apply function\n",
    "merged_df['distance'] = merged_df.apply(lambda x: hav_func(x), axis=1)"
   ]
  },
  {
   "cell_type": "code",
   "execution_count": 157,
   "metadata": {},
   "outputs": [],
   "source": [
    "#sum distance for each vehicle\n",
    "dist_sum = merged_df.groupby('Vehicle_ID')['distance'].sum()"
   ]
  },
  {
   "cell_type": "code",
   "execution_count": 163,
   "metadata": {},
   "outputs": [],
   "source": [
    "# map those values so it can be used by carto\n",
    "merged_df['dist_sum_mapped'] = merged_df['Vehicle_ID'].map(dist_sum)"
   ]
  },
  {
   "cell_type": "code",
   "execution_count": 170,
   "metadata": {},
   "outputs": [
    {
     "data": {
      "text/plain": [
       "4.0    175972\n",
       "3.0    120615\n",
       "2.0     41302\n",
       "1.0     15874\n",
       "0.0      5024\n",
       "Name: parsed_pass_count, dtype: int64"
      ]
     },
     "execution_count": 170,
     "metadata": {},
     "output_type": "execute_result"
    }
   ],
   "source": [
    "merged_df['parsed_pass_count'].value_counts()"
   ]
  },
  {
   "cell_type": "code",
   "execution_count": 172,
   "metadata": {},
   "outputs": [],
   "source": [
    "# only keep necessary columns\n",
    "final_df = merged_df[['Timestamp', \n",
    "                      'Vehicle_ID', \n",
    "                      'Latitude', 'Longitude', \n",
    "                      'Num_Passengers','parsed_pass_count', 'dist_sum_mapped']]"
   ]
  },
  {
   "cell_type": "code",
   "execution_count": 186,
   "metadata": {},
   "outputs": [],
   "source": [
    "# take 5% sample so viz is readable\n",
    "final_df = final_df[final_df['Vehicle_ID'].isin(dist_sum.sample(frac=.10).index)]"
   ]
  },
  {
   "cell_type": "code",
   "execution_count": 188,
   "metadata": {},
   "outputs": [],
   "source": [
    "# export\n",
    "final_df.to_csv('carto_rideshare_v2.csv', index=False)"
   ]
  },
  {
   "cell_type": "code",
   "execution_count": null,
   "metadata": {},
   "outputs": [],
   "source": []
  }
 ],
 "metadata": {
  "kernelspec": {
   "display_name": "falkpopcorn",
   "language": "python",
   "name": "falkpopcorn"
  },
  "language_info": {
   "codemirror_mode": {
    "name": "ipython",
    "version": 3
   },
   "file_extension": ".py",
   "mimetype": "text/x-python",
   "name": "python",
   "nbconvert_exporter": "python",
   "pygments_lexer": "ipython3",
   "version": "3.7.3"
  }
 },
 "nbformat": 4,
 "nbformat_minor": 2
}
